{
  "nbformat": 4,
  "nbformat_minor": 0,
  "metadata": {
    "colab": {
      "provenance": [],
      "gpuType": "T4",
      "authorship_tag": "ABX9TyPE9shQN+01SbPcTShs+u2y",
      "include_colab_link": true
    },
    "kernelspec": {
      "name": "python3",
      "display_name": "Python 3"
    },
    "language_info": {
      "name": "python"
    },
    "accelerator": "GPU"
  },
  "cells": [
    {
      "cell_type": "markdown",
      "metadata": {
        "id": "view-in-github",
        "colab_type": "text"
      },
      "source": [
        "<a href=\"https://colab.research.google.com/github/clashingera/LP/blob/main/cuda_vector.ipynb\" target=\"_parent\"><img src=\"https://colab.research.google.com/assets/colab-badge.svg\" alt=\"Open In Colab\"/></a>"
      ]
    },
    {
      "cell_type": "code",
      "source": [
        "%%writefile vector_add.cu\n",
        "#include <stdio.h>      // For printf, fprintf\n",
        "#include <stdlib.h>     // For malloc, free\n",
        "\n",
        "// CUDA kernel for vector addition\n",
        "__global__ void vectorAdd(float *a, float *b, float *c, int n) {\n",
        "    int i = blockIdx.x * blockDim.x + threadIdx.x;\n",
        "    if (i < n) {\n",
        "        c[i] = a[i] + b[i];\n",
        "    }\n",
        "}\n",
        "\n",
        "// Macro to check for CUDA errors after CUDA API calls\n",
        "#define CHECK_CUDA_ERROR(call) \\\n",
        "    do { \\\n",
        "        cudaError_t err = call; \\\n",
        "        if (err != cudaSuccess) { \\\n",
        "            fprintf(stderr, \"CUDA error in %s at line %d: %s\\n\", __FILE__, __LINE__, cudaGetErrorString(err)); \\\n",
        "            exit(EXIT_FAILURE); \\\n",
        "        } \\\n",
        "    } while(0)\n",
        "\n",
        "int main() {\n",
        "    int n = 1 << 20; // 2^20 = 1048576 elements\n",
        "    size_t size = n * sizeof(float);\n",
        "\n",
        "    // Allocate memory on the host\n",
        "    float *h_a = (float *)malloc(size);\n",
        "    float *h_b = (float *)malloc(size);\n",
        "    float *h_c = (float *)malloc(size);\n",
        "\n",
        "    // Initialize input vectors\n",
        "    for (int i = 0; i < n; i++) {\n",
        "        h_a[i] = float(i);\n",
        "        h_b[i] = float(i * 2);\n",
        "    }\n",
        "\n",
        "    // Allocate memory on the device\n",
        "    float *d_a, *d_b, *d_c;\n",
        "    CHECK_CUDA_ERROR(cudaMalloc((void **)&d_a, size));\n",
        "    CHECK_CUDA_ERROR(cudaMalloc((void **)&d_b, size));\n",
        "    CHECK_CUDA_ERROR(cudaMalloc((void **)&d_c, size));\n",
        "\n",
        "    // Copy vectors from host to device\n",
        "    CHECK_CUDA_ERROR(cudaMemcpy(d_a, h_a, size, cudaMemcpyHostToDevice));\n",
        "    CHECK_CUDA_ERROR(cudaMemcpy(d_b, h_b, size, cudaMemcpyHostToDevice));\n",
        "\n",
        "    // Launch kernel with 256 threads per block\n",
        "    int threadsPerBlock = 256;\n",
        "    int blocksPerGrid = (n + threadsPerBlock - 1) / threadsPerBlock;\n",
        "    vectorAdd<<<blocksPerGrid, threadsPerBlock>>>(d_a, d_b, d_c, n);\n",
        "\n",
        "    // Check for kernel launch errors\n",
        "    CHECK_CUDA_ERROR(cudaGetLastError());\n",
        "\n",
        "    // Copy result vector from device to host\n",
        "    CHECK_CUDA_ERROR(cudaMemcpy(h_c, d_c, size, cudaMemcpyDeviceToHost));\n",
        "\n",
        "    // Verify results\n",
        "    for (int i = 0; i < 9; i++) {\n",
        "        printf(\"c[%d] = %f\\n\", i, h_c[i]);\n",
        "    }\n",
        "\n",
        "    // Free memory\n",
        "    CHECK_CUDA_ERROR(cudaFree(d_a));\n",
        "    CHECK_CUDA_ERROR(cudaFree(d_b));\n",
        "    CHECK_CUDA_ERROR(cudaFree(d_c));\n",
        "    free(h_a);\n",
        "    free(h_b);\n",
        "    free(h_c);\n",
        "\n",
        "    return 0;\n",
        "}\n"
      ],
      "metadata": {
        "colab": {
          "base_uri": "https://localhost:8080/"
        },
        "id": "NagXRyIpx-Xv",
        "outputId": "d4906cc0-4c82-485a-c0a2-bf4bde498917"
      },
      "execution_count": 1,
      "outputs": [
        {
          "output_type": "stream",
          "name": "stdout",
          "text": [
            "Writing vector_add.cu\n"
          ]
        }
      ]
    },
    {
      "cell_type": "code",
      "execution_count": 2,
      "metadata": {
        "colab": {
          "base_uri": "https://localhost:8080/"
        },
        "id": "TabTLXvjxAAe",
        "outputId": "2cbcadfa-9a35-427c-d410-e2dabb69005c"
      },
      "outputs": [
        {
          "output_type": "stream",
          "name": "stdout",
          "text": [
            "c[0] = 0.000000\n",
            "c[1] = 3.000000\n",
            "c[2] = 6.000000\n",
            "c[3] = 9.000000\n",
            "c[4] = 12.000000\n",
            "c[5] = 15.000000\n",
            "c[6] = 18.000000\n",
            "c[7] = 21.000000\n",
            "c[8] = 24.000000\n"
          ]
        }
      ],
      "source": [
        "\n",
        "!nvcc -arch=sm_75 vector_add.cu -o vector_add\n",
        "!./vector_add\n"
      ]
    }
  ]
}